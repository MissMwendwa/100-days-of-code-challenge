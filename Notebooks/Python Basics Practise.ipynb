{
 "cells": [
  {
   "cell_type": "markdown",
   "id": "442de11d",
   "metadata": {},
   "source": [
    "# Python Functions "
   ]
  },
  {
   "cell_type": "markdown",
   "id": "b1bf1a85",
   "metadata": {},
   "source": [
    "In this particular day of coding, I will be doing function usage and creating looped functions to practice how much I know about function bulding in python and how to intergrate loops into the functions I create."
   ]
  },
  {
   "cell_type": "code",
   "execution_count": 1,
   "id": "b3afe79b",
   "metadata": {},
   "outputs": [
    {
     "name": "stdout",
     "output_type": "stream",
     "text": [
      "Ashley\n"
     ]
    }
   ],
   "source": [
    "# Creating a basic function\n",
    "def my_name():\n",
    "    print('Ashley')\n",
    "    \n",
    "my_name()"
   ]
  },
  {
   "cell_type": "code",
   "execution_count": 2,
   "id": "e1d7ae95",
   "metadata": {},
   "outputs": [
    {
     "name": "stdout",
     "output_type": "stream",
     "text": [
      "Kaly Munene\n"
     ]
    }
   ],
   "source": [
    "# Creating a function using arguments\n",
    "def new(name):\n",
    "    print(name + 'Munene')\n",
    "    \n",
    "new('Kaly ')"
   ]
  },
  {
   "cell_type": "code",
   "execution_count": 3,
   "id": "ff8dc465",
   "metadata": {},
   "outputs": [
    {
     "name": "stdout",
     "output_type": "stream",
     "text": [
      "Ashley 25\n"
     ]
    }
   ],
   "source": [
    "# Creating a function using more than 1 argument\n",
    "def func(name, age):\n",
    "    print(name, age)\n",
    "\n",
    "func('Ashley', 25)"
   ]
  },
  {
   "cell_type": "code",
   "execution_count": 4,
   "id": "9792403b",
   "metadata": {},
   "outputs": [
    {
     "name": "stdout",
     "output_type": "stream",
     "text": [
      "ashley 27 14000 Married\n"
     ]
    }
   ],
   "source": [
    "# Creating a function with 3 arguments\n",
    "def bio(name, age, salary, status):\n",
    "    print(name, age, salary, status)\n",
    "    \n",
    "bio('ashley', 27, 14000, 'Married')"
   ]
  },
  {
   "cell_type": "code",
   "execution_count": 5,
   "id": "ac1d880b",
   "metadata": {},
   "outputs": [
    {
     "name": "stdout",
     "output_type": "stream",
     "text": [
      "Rice\n",
      "Chapati\n",
      "Mukimu\n",
      "Fries\n",
      "Matoke\n"
     ]
    }
   ],
   "source": [
    "# Creating a function that calls a list of items\n",
    "def food(food_eaten):\n",
    "    for x in food_eaten:\n",
    "        print(x)\n",
    "    \n",
    "meals = ['Rice', 'Chapati', 'Mukimu', 'Fries', 'Matoke']\n",
    "food(meals)"
   ]
  },
  {
   "cell_type": "code",
   "execution_count": 6,
   "id": "e1f32300",
   "metadata": {},
   "outputs": [
    {
     "name": "stdout",
     "output_type": "stream",
     "text": [
      "Kenya\n",
      "Tanzania\n",
      "Madagascar\n",
      "Atlanta\n"
     ]
    }
   ],
   "source": [
    "# Creating a function that calls from a list 2\n",
    "def my_country(country):\n",
    "    for x in country:\n",
    "        print(x)\n",
    "        \n",
    "        \n",
    "Nations = ['Kenya', 'Tanzania', 'Madagascar', 'Atlanta']\n",
    "my_country(Nations)"
   ]
  },
  {
   "cell_type": "code",
   "execution_count": 7,
   "id": "94da95f1",
   "metadata": {},
   "outputs": [
    {
     "name": "stdout",
     "output_type": "stream",
     "text": [
      "16\n"
     ]
    }
   ],
   "source": [
    "# A function containing a loop\n",
    "def numbers(digit):\n",
    "    num = 0\n",
    "    \n",
    "    # loop starts here\n",
    "    for num_1 in digit:\n",
    "        if num > 0:\n",
    "            break\n",
    "            \n",
    "            \n",
    "    return num\n",
    "\n",
    "\n",
    "num = 16\n",
    "print(num)"
   ]
  },
  {
   "cell_type": "code",
   "execution_count": 8,
   "id": "4cf93dbe",
   "metadata": {},
   "outputs": [
    {
     "name": "stdout",
     "output_type": "stream",
     "text": [
      "16\n"
     ]
    }
   ],
   "source": [
    "# A function containing another nested if loop\n",
    "def numbers(digit):\n",
    "    num = 4\n",
    "    \n",
    "    # loop starts here\n",
    "    for num_1 in digit:\n",
    "        if num == 0:\n",
    "            num = num +2\n",
    "        else:\n",
    "            break\n",
    "            \n",
    "            \n",
    "    return num\n",
    "\n",
    "\n",
    "num = 16\n",
    "print(num)"
   ]
  },
  {
   "cell_type": "code",
   "execution_count": 11,
   "id": "ad4d3634",
   "metadata": {},
   "outputs": [
    {
     "name": "stdout",
     "output_type": "stream",
     "text": [
      "16\n"
     ]
    }
   ],
   "source": [
    "# A function containing another nested elif loop\n",
    "def numbers(digit):\n",
    "    num = 0\n",
    "    # Nested IFs starts here\n",
    "    if num == 0:\n",
    "        num = num +2\n",
    "    elif num > 0:\n",
    "        num=num * 3\n",
    "    else:\n",
    "        print('Done')\n",
    "            \n",
    "            \n",
    "    return num\n",
    "\n",
    "print(num)"
   ]
  },
  {
   "cell_type": "code",
   "execution_count": 20,
   "id": "db50519a",
   "metadata": {},
   "outputs": [
    {
     "data": {
      "text/plain": [
       "14"
      ]
     },
     "execution_count": 20,
     "metadata": {},
     "output_type": "execute_result"
    }
   ],
   "source": [
    "# New nested If statement\n",
    "num = 7\n",
    "\n",
    "def loop(num):\n",
    "    if num > 5:\n",
    "        num = num *2\n",
    "    elif num < 5:\n",
    "        num = num * 6\n",
    "    else:\n",
    "        num= num * 3\n",
    "    \n",
    "    return num\n",
    "\n",
    "loop(num)"
   ]
  },
  {
   "cell_type": "code",
   "execution_count": 27,
   "id": "325e9139",
   "metadata": {},
   "outputs": [
    {
     "data": {
      "text/plain": [
       "38"
      ]
     },
     "execution_count": 27,
     "metadata": {},
     "output_type": "execute_result"
    }
   ],
   "source": [
    "# Boolean functions in Python\n",
    "name = 'Tumaini'\n",
    "age = 35\n",
    "\n",
    "def bio_2 (name, age):\n",
    "    if name == 'Tumaini':\n",
    "        age = age + 3\n",
    "    elif name != 'Tumaini':\n",
    "        age = age - 3\n",
    "    else:\n",
    "        print('name not Recognized!')\n",
    "    return age\n",
    "\n",
    "bio_2('Tumaini', age)"
   ]
  },
  {
   "cell_type": "code",
   "execution_count": null,
   "id": "c3ae4c55",
   "metadata": {},
   "outputs": [],
   "source": []
  }
 ],
 "metadata": {
  "kernelspec": {
   "display_name": "Python 3 (ipykernel)",
   "language": "python",
   "name": "python3"
  },
  "language_info": {
   "codemirror_mode": {
    "name": "ipython",
    "version": 3
   },
   "file_extension": ".py",
   "mimetype": "text/x-python",
   "name": "python",
   "nbconvert_exporter": "python",
   "pygments_lexer": "ipython3",
   "version": "3.9.12"
  }
 },
 "nbformat": 4,
 "nbformat_minor": 5
}
