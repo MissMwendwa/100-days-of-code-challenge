{
 "cells": [
  {
   "cell_type": "markdown",
   "id": "a505a22c",
   "metadata": {},
   "source": [
    "# Python Functions 2 & Loops"
   ]
  },
  {
   "cell_type": "markdown",
   "id": "46618d1b",
   "metadata": {},
   "source": [
    "In this notebok, I'm covering some basics to functions and the use of loops in python.By the end of the practice I should be comfortable with coming up with functions and loops in python"
   ]
  },
  {
   "cell_type": "code",
   "execution_count": 1,
   "id": "7097730d",
   "metadata": {},
   "outputs": [
    {
     "name": "stdout",
     "output_type": "stream",
     "text": [
      "Your name is not Asheley\n"
     ]
    },
    {
     "data": {
      "text/plain": [
       "'Mucheru'"
      ]
     },
     "execution_count": 1,
     "metadata": {},
     "output_type": "execute_result"
    }
   ],
   "source": [
    "# Bacis Function to check validity of name\n",
    "name = 'Ashley'\n",
    "\n",
    "def valid(name):\n",
    "    if name == 'Ashley':\n",
    "        print('My name is ' + name)\n",
    "    else:\n",
    "        print('Your name is not Asheley')\n",
    "    return name\n",
    "\n",
    "# calling the function\n",
    "valid(\"Mucheru\")"
   ]
  },
  {
   "cell_type": "code",
   "execution_count": 2,
   "id": "24564233",
   "metadata": {},
   "outputs": [
    {
     "name": "stdout",
     "output_type": "stream",
     "text": [
      "Enter your name khela\n",
      "khela\n",
      "Enter your salary 45000\n",
      "45000\n",
      "33320.0\n"
     ]
    }
   ],
   "source": [
    "# Using functions inside functions\n",
    "def get_val(name, salary):\n",
    "    name = print(input('Enter your name '))\n",
    "    salary = print(input('Enter your salary '))\n",
    "    \n",
    "def tax(tax_sal, salary):\n",
    "    tax_sal = int(salary) * 0.98\n",
    "    print(tax_sal)\n",
    "    \n",
    "#function calling  \n",
    "get_val('Name', 'salary')\n",
    "tax(45000, 34000)"
   ]
  },
  {
   "cell_type": "code",
   "execution_count": 5,
   "id": "8cfab9d2",
   "metadata": {},
   "outputs": [
    {
     "name": "stdout",
     "output_type": "stream",
     "text": [
      " x   \r\n",
      " \n",
      " x   x   \r\n",
      " \n",
      " x   x   x   \r\n",
      " \n",
      " x   x   x   x   \r\n",
      " \n",
      " x   x   x   x   x   \r\n",
      " \n",
      " x   x   x   x   x   x   \r\n",
      " \n",
      " x   x   x   x   x   x   x   \r\n",
      " \n",
      " x   x   x   x   x   x   x   x   \r\n",
      " \n"
     ]
    }
   ],
   "source": [
    "# Building a number pyramid\n",
    "def pattern(pyramid):\n",
    "    \n",
    "    #start of the loop\n",
    "    for pyramid in range (0, pyramid):\n",
    "        \n",
    "        for new in range(0, pyramid + 1):\n",
    "            print(\" x \",  end=\" \")\n",
    "            \n",
    "        print(\" \\r \")\n",
    "            \n",
    "# Calling the function\n",
    "pyramid = 8\n",
    "pattern(pyramid)"
   ]
  },
  {
   "cell_type": "code",
   "execution_count": 10,
   "id": "9a66219d",
   "metadata": {},
   "outputs": [
    {
     "name": "stdout",
     "output_type": "stream",
     "text": [
      " \r\n",
      " \r\n",
      " *   \r\n",
      " *   *   \r\n",
      " *   *   *   \r\n",
      " *   *   *   *   \r\n",
      " *   *   *   *   *   \r\n",
      " *   *   *   *   *   *   \r\n",
      " *   *   *   *   *   *   *   \r\n",
      " *   *   *   *   *   *   *   *   \r\n",
      " *   *   *   *   *   *   *   *   *   \r\n",
      " *   *   *   *   *   *   *   *   *   *   \r\n",
      " *   *   *   *   *   *   *   *   *   *   *   \r\n",
      " *   *   *   *   *   *   *   *   *   *   *   *   \r\n",
      " *   *   *   *   *   *   *   *   *   *   *   *   *   \r\n",
      " *   *   *   *   *   *   *   *   *   *   *   *   *   *   \r\n",
      " *   *   *   *   *   *   *   *   *   *   *   *   *   *   *   \r\n",
      " *   *   *   *   *   *   *   *   *   *   *   *   *   *   *   *   \r\n"
     ]
    }
   ],
   "source": [
    "# Reverse pyramid\n",
    "def pattern_2(rev_pyramid):\n",
    "    for rev_pyramid in range (0, rev_pyramid):\n",
    "        for next in range(0, rev_pyramid-1):\n",
    "            print(\" * \", end=\" \")\n",
    "        print(\" \\r\")\n",
    "        \n",
    "# calling the functions\n",
    "rev_pyramid = 18\n",
    "pattern_2(rev_pyramid)"
   ]
  },
  {
   "cell_type": "code",
   "execution_count": 17,
   "id": "f408d113",
   "metadata": {},
   "outputs": [
    {
     "name": "stdout",
     "output_type": "stream",
     "text": [
      "        * \r\n",
      "      * * \r\n",
      "    * * * \r\n",
      "  * * * * \r\n",
      "* * * * * \r\n"
     ]
    }
   ],
   "source": [
    "\n",
    "# Function to demonstrate printing pattern\n",
    "def pypart2(n):\n",
    " # number of spaces\n",
    "\tk = 2*n - 2\n",
    "\n",
    "\t# outer loop to handle number of rows\n",
    "\tfor i in range(0, n):\n",
    "\t\tfor j in range(0, k):\n",
    "\t\t\tprint(end=\" \")\n",
    "\t\n",
    "\t\t# decrementing k after each loop\n",
    "\t\tk = k - 2\n",
    "\t\n",
    "\t\t# inner loop to handle number of columns\n",
    "\t\t# values changing acc. to outer loop\n",
    "\t\tfor j in range(0, i+1):\n",
    "\t\t\n",
    "\t\t\t# printing stars\n",
    "\t\t\tprint(\"* \", end=\"\")\n",
    "\t\n",
    "\t\t# ending line after each row\n",
    "\t\tprint(\"\\r\")\n",
    "\n",
    "# Driver Code\n",
    "n = 5\n",
    "pypart2(n)\n"
   ]
  },
  {
   "cell_type": "code",
   "execution_count": 23,
   "id": "037f9ebc",
   "metadata": {},
   "outputs": [
    {
     "name": "stdout",
     "output_type": "stream",
     "text": [
      "               x  \r\n",
      " x   x  \r\n",
      "  x   x   x  \r\n",
      "   x   x   x   x  \r\n",
      "    x   x   x   x   x  \r\n",
      "     x   x   x   x   x   x  \r\n",
      "      x   x   x   x   x   x   x  \r\n",
      "       x   x   x   x   x   x   x   x  \r\n"
     ]
    }
   ],
   "source": [
    "# Recreating another reverse loop\n",
    "def pattern4(num):\n",
    "    nums = 2 * num-2\n",
    "    \n",
    "    #loop starts here\n",
    "    for num in range(0, num):\n",
    "        for nums in range (0, nums):\n",
    "            print(end=\" \")\n",
    "            \n",
    "        nums = nums - 1\n",
    "        for nums in range(0, num+1):\n",
    "            print(\" x \", end=\" \")\n",
    "            \n",
    "        print(\"\\r\")\n",
    "        \n",
    "#Calling the methods\n",
    "num = 8\n",
    "pattern4(num)        "
   ]
  },
  {
   "cell_type": "code",
   "execution_count": null,
   "id": "5bae7051",
   "metadata": {},
   "outputs": [],
   "source": []
  }
 ],
 "metadata": {
  "kernelspec": {
   "display_name": "Python 3 (ipykernel)",
   "language": "python",
   "name": "python3"
  },
  "language_info": {
   "codemirror_mode": {
    "name": "ipython",
    "version": 3
   },
   "file_extension": ".py",
   "mimetype": "text/x-python",
   "name": "python",
   "nbconvert_exporter": "python",
   "pygments_lexer": "ipython3",
   "version": "3.9.12"
  },
  "vscode": {
   "interpreter": {
    "hash": "1093b6f0fc25e48ddc79b876676dae3bb58ae2ab3c199ddda4de785c4641833d"
   }
  }
 },
 "nbformat": 4,
 "nbformat_minor": 5
}
