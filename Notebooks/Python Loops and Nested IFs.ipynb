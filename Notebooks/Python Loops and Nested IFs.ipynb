{
 "cells": [
  {
   "cell_type": "markdown",
   "id": "800c5cbd",
   "metadata": {},
   "source": [
    "# Python Loops"
   ]
  },
  {
   "cell_type": "code",
   "execution_count": 1,
   "id": "a9e39d3f",
   "metadata": {},
   "outputs": [
    {
     "name": "stdout",
     "output_type": "stream",
     "text": [
      "Area is equal to: 49\n"
     ]
    }
   ],
   "source": [
    "# Creating my first loop\n",
    "def calculate(num):\n",
    "    \n",
    "    # Nested loop starts here\n",
    "    if num == 12:\n",
    "        area = 7 * 7\n",
    "    elif num < 7 :\n",
    "        area = (num + 2)\n",
    "    else:\n",
    "        area = (num)**2\n",
    "        \n",
    "    print('Area is equal to:', +area)\n",
    "        \n",
    "#Drivers code\n",
    "num = 12\n",
    "calculate(num)"
   ]
  },
  {
   "cell_type": "code",
   "execution_count": 4,
   "id": "0742e764",
   "metadata": {},
   "outputs": [
    {
     "name": "stdout",
     "output_type": "stream",
     "text": [
      "My name is  Huwie I am a  Male and I am  25 years old\n"
     ]
    }
   ],
   "source": [
    "# Creating a second if statement\n",
    "def identify(name):\n",
    "    \n",
    "    #start of the loop\n",
    "    if name == 'Mutua':\n",
    "        age = 34\n",
    "        gender = 'Female'\n",
    "        print('My name is ', name, 'I am a ', gender, 'and I am ', age, 'years old')\n",
    "        \n",
    "    elif name == 'Huwie':\n",
    "        age = 25\n",
    "        gender = 'Male'\n",
    "        print('My name is ', name, 'I am a ', gender, 'and I am ', age, 'years old')\n",
    "    elif name == 'Ashley':\n",
    "        age = 26\n",
    "        gender = 'Female'\n",
    "        print('My name is ', name, 'I am a ', gender, 'and I am ', age, 'years old')\n",
    "    else:\n",
    "        print('Name not found!')\n",
    "        \n",
    "        \n",
    "# Drivers code\n",
    "name = 'Huwie'\n",
    "identify(name)"
   ]
  },
  {
   "cell_type": "code",
   "execution_count": 6,
   "id": "e5ac2f96",
   "metadata": {},
   "outputs": [
    {
     "name": "stdout",
     "output_type": "stream",
     "text": [
      "14\n",
      "25\n",
      "37\n",
      "49\n",
      "50\n"
     ]
    }
   ],
   "source": [
    "# Another Boolean Testing Function\n",
    "def time(age):\n",
    "    for sup in age:\n",
    "        print(sup)\n",
    "        \n",
    "        \n",
    "# Drivers code\n",
    "ages = [14, 25, 37, 49, 50]\n",
    "time(ages)"
   ]
  },
  {
   "cell_type": "code",
   "execution_count": 7,
   "id": "194ceb6c",
   "metadata": {},
   "outputs": [
    {
     "name": "stdout",
     "output_type": "stream",
     "text": [
      "I am just a student!\n",
      "I am just a student!\n",
      "I am just a student!\n",
      "I am just a student!\n"
     ]
    }
   ],
   "source": [
    "# A loop and If statements\n",
    "def name(prof):\n",
    "    for career in prof:\n",
    "        if prof == 'Teacher':\n",
    "            print('I am a ', prof)\n",
    "        elif prof == 'Engineer':\n",
    "            print('I am an ', prof)\n",
    "        elif prof == 'UX Designer':\n",
    "            print(' I am a ', prof)\n",
    "        else:\n",
    "            print('I am just a student!')\n",
    "            \n",
    "# Drivers code\n",
    "career = ['Doctor', 'Artist', 'Product Designer', 'Not Applicable']\n",
    "name(career)"
   ]
  },
  {
   "cell_type": "code",
   "execution_count": 8,
   "id": "25cc2b46",
   "metadata": {},
   "outputs": [],
   "source": [
    "# That concludes my code practice for the day"
   ]
  },
  {
   "cell_type": "code",
   "execution_count": null,
   "id": "fc0bbce5",
   "metadata": {},
   "outputs": [],
   "source": []
  }
 ],
 "metadata": {
  "kernelspec": {
   "display_name": "Python 3 (ipykernel)",
   "language": "python",
   "name": "python3"
  },
  "language_info": {
   "codemirror_mode": {
    "name": "ipython",
    "version": 3
   },
   "file_extension": ".py",
   "mimetype": "text/x-python",
   "name": "python",
   "nbconvert_exporter": "python",
   "pygments_lexer": "ipython3",
   "version": "3.9.12"
  }
 },
 "nbformat": 4,
 "nbformat_minor": 5
}
