{
 "cells": [
  {
   "cell_type": "markdown",
   "id": "3ad2fcb2",
   "metadata": {},
   "source": [
    "# Python Classes II"
   ]
  },
  {
   "cell_type": "code",
   "execution_count": 2,
   "id": "fac71cc1",
   "metadata": {},
   "outputs": [],
   "source": [
    "# A simple Class for finding volume area and perimeter\n",
    "class Rectangle:\n",
    "    \n",
    "    # Create the Attributes\n",
    "    def __init__(self, width, length, height):\n",
    "        self.width = width\n",
    "        self.length = length\n",
    "        self.height = height\n",
    "        \n",
    "    #define perimeter method\n",
    "    def get_per(self):\n",
    "        perimeter = (self.width + self.length)*2\n",
    "        print('The Perimeter is ', perimeter)\n",
    "        \n",
    "    #define area method\n",
    "    def get_area(self):\n",
    "        area = self.width * self.length\n",
    "        print('The area is: ', area)\n",
    "        \n",
    "    #define volume method\n",
    "    def get_volume(self):\n",
    "        volume = self.width * self.height *self.length\n",
    "        print('The volume is: ', volume)"
   ]
  },
  {
   "cell_type": "code",
   "execution_count": 3,
   "id": "b8e57b85",
   "metadata": {},
   "outputs": [],
   "source": [
    "# Creating an object\n",
    "rectangle = Rectangle(15, 25, 18)"
   ]
  },
  {
   "cell_type": "code",
   "execution_count": 4,
   "id": "93cecc9b",
   "metadata": {},
   "outputs": [
    {
     "name": "stdout",
     "output_type": "stream",
     "text": [
      "The area is:  375\n"
     ]
    }
   ],
   "source": [
    "rectangle.get_area()"
   ]
  },
  {
   "cell_type": "code",
   "execution_count": 5,
   "id": "6fb875f0",
   "metadata": {},
   "outputs": [],
   "source": [
    "rectangle2 = Rectangle(12, 24, 18)"
   ]
  },
  {
   "cell_type": "code",
   "execution_count": 6,
   "id": "07a56ec1",
   "metadata": {},
   "outputs": [
    {
     "name": "stdout",
     "output_type": "stream",
     "text": [
      "The volume is:  5184\n"
     ]
    }
   ],
   "source": [
    "rectangle2.get_volume()"
   ]
  },
  {
   "cell_type": "code",
   "execution_count": 7,
   "id": "23d1555b",
   "metadata": {},
   "outputs": [],
   "source": [
    "# A simple class to calculate cylindrical capacitise\n",
    "class circle:\n",
    "    \n",
    "    # Define the atrributes\n",
    "    def __init__(self, radius, pi, height):\n",
    "        self.pi = pi\n",
    "        self.radius = radius\n",
    "        self.height = height\n",
    "        \n",
    "    \n",
    "    # Calculate the surface area\n",
    "    def get_surface_area(self):\n",
    "        surface_area = (self.pi *self.radius**2) + (self.radius*self.pi*self.height)\n",
    "        print('The Surface area is ', surface_area)\n",
    "        \n",
    "        \n",
    "    #calculate the volume\n",
    "    def get_volume(self):\n",
    "        volume = (self.pi * (self.radius **2) * self.height)\n",
    "        print('The volume is ', volume)"
   ]
  },
  {
   "cell_type": "code",
   "execution_count": 8,
   "id": "7a2f7b24",
   "metadata": {},
   "outputs": [],
   "source": [
    "# creating an object \n",
    "cylindar = circle(35, 3.142, 7)"
   ]
  },
  {
   "cell_type": "code",
   "execution_count": 9,
   "id": "0fe48010",
   "metadata": {},
   "outputs": [
    {
     "name": "stdout",
     "output_type": "stream",
     "text": [
      "The Surface area is  4618.74\n"
     ]
    }
   ],
   "source": [
    "# getting surface area\n",
    "cylindar.get_surface_area()"
   ]
  },
  {
   "cell_type": "code",
   "execution_count": 10,
   "id": "e7a6b5e7",
   "metadata": {},
   "outputs": [
    {
     "name": "stdout",
     "output_type": "stream",
     "text": [
      "The volume is  26942.649999999998\n"
     ]
    }
   ],
   "source": [
    "# getting volume\n",
    "cylindar.get_volume()"
   ]
  },
  {
   "cell_type": "code",
   "execution_count": null,
   "id": "8087844a",
   "metadata": {},
   "outputs": [],
   "source": []
  }
 ],
 "metadata": {
  "kernelspec": {
   "display_name": "Python 3 (ipykernel)",
   "language": "python",
   "name": "python3"
  },
  "language_info": {
   "codemirror_mode": {
    "name": "ipython",
    "version": 3
   },
   "file_extension": ".py",
   "mimetype": "text/x-python",
   "name": "python",
   "nbconvert_exporter": "python",
   "pygments_lexer": "ipython3",
   "version": "3.9.12"
  }
 },
 "nbformat": 4,
 "nbformat_minor": 5
}
