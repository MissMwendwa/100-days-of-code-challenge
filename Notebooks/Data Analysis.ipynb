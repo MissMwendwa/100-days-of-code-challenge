{
 "cells": [
  {
   "cell_type": "markdown",
   "id": "024e71be",
   "metadata": {},
   "source": [
    "# Data Analysis "
   ]
  },
  {
   "cell_type": "markdown",
   "id": "f5ea99d4",
   "metadata": {},
   "source": [
    "In this notebook, I will be working with 3 Libraries. MatplotLib, Pandas and Numpy to try and recap on what I know about these libraries.\n",
    "I will create dictionaries and convert them to dataframes using pandas then export them as csvs. Then use Matplotlib to visualize them."
   ]
  },
  {
   "cell_type": "code",
   "execution_count": 1,
   "id": "568f194f",
   "metadata": {},
   "outputs": [],
   "source": [
    "#Imports\n",
    "import pandas as pd\n",
    "import numpy as np\n",
    "import matplotlib.pyplot as plt"
   ]
  },
  {
   "cell_type": "code",
   "execution_count": 2,
   "id": "04d5d1ad",
   "metadata": {},
   "outputs": [],
   "source": [
    "#Creating Numpy arrays\n",
    "arr = np.array([22, 34, 25, 25, 56, 27, 78, 65])\n",
    "arr2 = np.array(['Mary', 'Faith', 'Harry', 'Gilbert', 'Vanessa', 'Mucheru', 'Alice', 'Mwangi'])\n",
    "arr3 = np.array([24000, 34000, 34000, 54000, 57000, 35000, 89000, 78000])"
   ]
  },
  {
   "cell_type": "code",
   "execution_count": 3,
   "id": "7e785e6e",
   "metadata": {},
   "outputs": [],
   "source": [
    "#Creating Dictionary using the np arrays \n",
    "Salary = {'Name': arr2,\n",
    "         'Age' : arr, \n",
    "         'Salary': arr3}"
   ]
  },
  {
   "cell_type": "code",
   "execution_count": 4,
   "id": "7ced8702",
   "metadata": {},
   "outputs": [
    {
     "data": {
      "text/plain": [
       "{'Name': array(['Mary', 'Faith', 'Harry', 'Gilbert', 'Vanessa', 'Mucheru', 'Alice',\n",
       "        'Mwangi'], dtype='<U7'),\n",
       " 'Age': array([22, 34, 25, 25, 56, 27, 78, 65]),\n",
       " 'Salary': array([24000, 34000, 34000, 54000, 57000, 35000, 89000, 78000])}"
      ]
     },
     "execution_count": 4,
     "metadata": {},
     "output_type": "execute_result"
    }
   ],
   "source": [
    "#displaying the dictionary\n",
    "Salary"
   ]
  },
  {
   "cell_type": "code",
   "execution_count": 5,
   "id": "78d5bfae",
   "metadata": {},
   "outputs": [],
   "source": [
    "#Adding more information to the dictionary\n",
    "Salary = {'Name': arr2,\n",
    "         'Age' : arr, \n",
    "         'Salary': arr3,\n",
    "    'Status': ['Single', 'Single', 'Married', 'Married', 'Single', 'Widowed', 'Undefined', 'Married']}"
   ]
  },
  {
   "cell_type": "code",
   "execution_count": 6,
   "id": "64a3723f",
   "metadata": {},
   "outputs": [
    {
     "data": {
      "text/plain": [
       "{'Name': array(['Mary', 'Faith', 'Harry', 'Gilbert', 'Vanessa', 'Mucheru', 'Alice',\n",
       "        'Mwangi'], dtype='<U7'),\n",
       " 'Age': array([22, 34, 25, 25, 56, 27, 78, 65]),\n",
       " 'Salary': array([24000, 34000, 34000, 54000, 57000, 35000, 89000, 78000]),\n",
       " 'Status': ['Single',\n",
       "  'Single',\n",
       "  'Married',\n",
       "  'Married',\n",
       "  'Single',\n",
       "  'Widowed',\n",
       "  'Undefined',\n",
       "  'Married']}"
      ]
     },
     "execution_count": 6,
     "metadata": {},
     "output_type": "execute_result"
    }
   ],
   "source": [
    "Salary"
   ]
  },
  {
   "cell_type": "code",
   "execution_count": 7,
   "id": "81623e8e",
   "metadata": {},
   "outputs": [
    {
     "data": {
      "text/html": [
       "<div>\n",
       "<style scoped>\n",
       "    .dataframe tbody tr th:only-of-type {\n",
       "        vertical-align: middle;\n",
       "    }\n",
       "\n",
       "    .dataframe tbody tr th {\n",
       "        vertical-align: top;\n",
       "    }\n",
       "\n",
       "    .dataframe thead th {\n",
       "        text-align: right;\n",
       "    }\n",
       "</style>\n",
       "<table border=\"1\" class=\"dataframe\">\n",
       "  <thead>\n",
       "    <tr style=\"text-align: right;\">\n",
       "      <th></th>\n",
       "      <th>Name</th>\n",
       "      <th>Age</th>\n",
       "      <th>Salary</th>\n",
       "      <th>Status</th>\n",
       "    </tr>\n",
       "  </thead>\n",
       "  <tbody>\n",
       "    <tr>\n",
       "      <th>0</th>\n",
       "      <td>Mary</td>\n",
       "      <td>22</td>\n",
       "      <td>24000</td>\n",
       "      <td>Single</td>\n",
       "    </tr>\n",
       "    <tr>\n",
       "      <th>1</th>\n",
       "      <td>Faith</td>\n",
       "      <td>34</td>\n",
       "      <td>34000</td>\n",
       "      <td>Single</td>\n",
       "    </tr>\n",
       "    <tr>\n",
       "      <th>2</th>\n",
       "      <td>Harry</td>\n",
       "      <td>25</td>\n",
       "      <td>34000</td>\n",
       "      <td>Married</td>\n",
       "    </tr>\n",
       "    <tr>\n",
       "      <th>3</th>\n",
       "      <td>Gilbert</td>\n",
       "      <td>25</td>\n",
       "      <td>54000</td>\n",
       "      <td>Married</td>\n",
       "    </tr>\n",
       "    <tr>\n",
       "      <th>4</th>\n",
       "      <td>Vanessa</td>\n",
       "      <td>56</td>\n",
       "      <td>57000</td>\n",
       "      <td>Single</td>\n",
       "    </tr>\n",
       "    <tr>\n",
       "      <th>5</th>\n",
       "      <td>Mucheru</td>\n",
       "      <td>27</td>\n",
       "      <td>35000</td>\n",
       "      <td>Widowed</td>\n",
       "    </tr>\n",
       "    <tr>\n",
       "      <th>6</th>\n",
       "      <td>Alice</td>\n",
       "      <td>78</td>\n",
       "      <td>89000</td>\n",
       "      <td>Undefined</td>\n",
       "    </tr>\n",
       "    <tr>\n",
       "      <th>7</th>\n",
       "      <td>Mwangi</td>\n",
       "      <td>65</td>\n",
       "      <td>78000</td>\n",
       "      <td>Married</td>\n",
       "    </tr>\n",
       "  </tbody>\n",
       "</table>\n",
       "</div>"
      ],
      "text/plain": [
       "      Name  Age  Salary     Status\n",
       "0     Mary   22   24000     Single\n",
       "1    Faith   34   34000     Single\n",
       "2    Harry   25   34000    Married\n",
       "3  Gilbert   25   54000    Married\n",
       "4  Vanessa   56   57000     Single\n",
       "5  Mucheru   27   35000    Widowed\n",
       "6    Alice   78   89000  Undefined\n",
       "7   Mwangi   65   78000    Married"
      ]
     },
     "execution_count": 7,
     "metadata": {},
     "output_type": "execute_result"
    }
   ],
   "source": [
    "#Converting the dictionary into a dataframe\n",
    "data = pd.DataFrame(Salary)\n",
    "data"
   ]
  },
  {
   "cell_type": "code",
   "execution_count": 8,
   "id": "2d41f59a",
   "metadata": {},
   "outputs": [
    {
     "data": {
      "text/html": [
       "<div>\n",
       "<style scoped>\n",
       "    .dataframe tbody tr th:only-of-type {\n",
       "        vertical-align: middle;\n",
       "    }\n",
       "\n",
       "    .dataframe tbody tr th {\n",
       "        vertical-align: top;\n",
       "    }\n",
       "\n",
       "    .dataframe thead th {\n",
       "        text-align: right;\n",
       "    }\n",
       "</style>\n",
       "<table border=\"1\" class=\"dataframe\">\n",
       "  <thead>\n",
       "    <tr style=\"text-align: right;\">\n",
       "      <th></th>\n",
       "      <th>Name</th>\n",
       "      <th>Age</th>\n",
       "      <th>Salary</th>\n",
       "      <th>Status</th>\n",
       "    </tr>\n",
       "  </thead>\n",
       "  <tbody>\n",
       "    <tr>\n",
       "      <th>0</th>\n",
       "      <td>Mary</td>\n",
       "      <td>22</td>\n",
       "      <td>24000</td>\n",
       "      <td>Single</td>\n",
       "    </tr>\n",
       "    <tr>\n",
       "      <th>1</th>\n",
       "      <td>Faith</td>\n",
       "      <td>34</td>\n",
       "      <td>34000</td>\n",
       "      <td>Single</td>\n",
       "    </tr>\n",
       "    <tr>\n",
       "      <th>2</th>\n",
       "      <td>Harry</td>\n",
       "      <td>25</td>\n",
       "      <td>34000</td>\n",
       "      <td>Married</td>\n",
       "    </tr>\n",
       "    <tr>\n",
       "      <th>3</th>\n",
       "      <td>Gilbert</td>\n",
       "      <td>25</td>\n",
       "      <td>54000</td>\n",
       "      <td>Married</td>\n",
       "    </tr>\n",
       "    <tr>\n",
       "      <th>4</th>\n",
       "      <td>Vanessa</td>\n",
       "      <td>56</td>\n",
       "      <td>57000</td>\n",
       "      <td>Single</td>\n",
       "    </tr>\n",
       "    <tr>\n",
       "      <th>5</th>\n",
       "      <td>Mucheru</td>\n",
       "      <td>27</td>\n",
       "      <td>35000</td>\n",
       "      <td>Widowed</td>\n",
       "    </tr>\n",
       "  </tbody>\n",
       "</table>\n",
       "</div>"
      ],
      "text/plain": [
       "      Name  Age  Salary   Status\n",
       "0     Mary   22   24000   Single\n",
       "1    Faith   34   34000   Single\n",
       "2    Harry   25   34000  Married\n",
       "3  Gilbert   25   54000  Married\n",
       "4  Vanessa   56   57000   Single\n",
       "5  Mucheru   27   35000  Widowed"
      ]
     },
     "execution_count": 8,
     "metadata": {},
     "output_type": "execute_result"
    }
   ],
   "source": [
    "data[:6]"
   ]
  },
  {
   "cell_type": "code",
   "execution_count": 9,
   "id": "99bf7c72",
   "metadata": {},
   "outputs": [
    {
     "data": {
      "text/html": [
       "<div>\n",
       "<style scoped>\n",
       "    .dataframe tbody tr th:only-of-type {\n",
       "        vertical-align: middle;\n",
       "    }\n",
       "\n",
       "    .dataframe tbody tr th {\n",
       "        vertical-align: top;\n",
       "    }\n",
       "\n",
       "    .dataframe thead th {\n",
       "        text-align: right;\n",
       "    }\n",
       "</style>\n",
       "<table border=\"1\" class=\"dataframe\">\n",
       "  <thead>\n",
       "    <tr style=\"text-align: right;\">\n",
       "      <th></th>\n",
       "      <th>Name</th>\n",
       "      <th>Age</th>\n",
       "      <th>Salary</th>\n",
       "      <th>Status</th>\n",
       "    </tr>\n",
       "  </thead>\n",
       "  <tbody>\n",
       "    <tr>\n",
       "      <th>1</th>\n",
       "      <td>Faith</td>\n",
       "      <td>34</td>\n",
       "      <td>34000</td>\n",
       "      <td>Single</td>\n",
       "    </tr>\n",
       "    <tr>\n",
       "      <th>2</th>\n",
       "      <td>Harry</td>\n",
       "      <td>25</td>\n",
       "      <td>34000</td>\n",
       "      <td>Married</td>\n",
       "    </tr>\n",
       "    <tr>\n",
       "      <th>3</th>\n",
       "      <td>Gilbert</td>\n",
       "      <td>25</td>\n",
       "      <td>54000</td>\n",
       "      <td>Married</td>\n",
       "    </tr>\n",
       "    <tr>\n",
       "      <th>4</th>\n",
       "      <td>Vanessa</td>\n",
       "      <td>56</td>\n",
       "      <td>57000</td>\n",
       "      <td>Single</td>\n",
       "    </tr>\n",
       "    <tr>\n",
       "      <th>5</th>\n",
       "      <td>Mucheru</td>\n",
       "      <td>27</td>\n",
       "      <td>35000</td>\n",
       "      <td>Widowed</td>\n",
       "    </tr>\n",
       "    <tr>\n",
       "      <th>6</th>\n",
       "      <td>Alice</td>\n",
       "      <td>78</td>\n",
       "      <td>89000</td>\n",
       "      <td>Undefined</td>\n",
       "    </tr>\n",
       "    <tr>\n",
       "      <th>7</th>\n",
       "      <td>Mwangi</td>\n",
       "      <td>65</td>\n",
       "      <td>78000</td>\n",
       "      <td>Married</td>\n",
       "    </tr>\n",
       "  </tbody>\n",
       "</table>\n",
       "</div>"
      ],
      "text/plain": [
       "      Name  Age  Salary     Status\n",
       "1    Faith   34   34000     Single\n",
       "2    Harry   25   34000    Married\n",
       "3  Gilbert   25   54000    Married\n",
       "4  Vanessa   56   57000     Single\n",
       "5  Mucheru   27   35000    Widowed\n",
       "6    Alice   78   89000  Undefined\n",
       "7   Mwangi   65   78000    Married"
      ]
     },
     "execution_count": 9,
     "metadata": {},
     "output_type": "execute_result"
    }
   ],
   "source": [
    "data[1:]"
   ]
  },
  {
   "cell_type": "code",
   "execution_count": 10,
   "id": "2f1d08b4",
   "metadata": {},
   "outputs": [
    {
     "name": "stderr",
     "output_type": "stream",
     "text": [
      "C:\\Users\\Miss Gloriah\\AppData\\Local\\Temp\\ipykernel_10616\\2723740006.py:1: FutureWarning: Dropping of nuisance columns in DataFrame reductions (with 'numeric_only=None') is deprecated; in a future version this will raise TypeError.  Select only valid columns before calling the reduction.\n",
      "  data.std()\n"
     ]
    },
    {
     "data": {
      "text/plain": [
       "Age          21.66630\n",
       "Salary    23237.51585\n",
       "dtype: float64"
      ]
     },
     "execution_count": 10,
     "metadata": {},
     "output_type": "execute_result"
    }
   ],
   "source": [
    "data.std()"
   ]
  },
  {
   "cell_type": "code",
   "execution_count": 11,
   "id": "3a66969a",
   "metadata": {},
   "outputs": [
    {
     "data": {
      "text/html": [
       "<div>\n",
       "<style scoped>\n",
       "    .dataframe tbody tr th:only-of-type {\n",
       "        vertical-align: middle;\n",
       "    }\n",
       "\n",
       "    .dataframe tbody tr th {\n",
       "        vertical-align: top;\n",
       "    }\n",
       "\n",
       "    .dataframe thead th {\n",
       "        text-align: right;\n",
       "    }\n",
       "</style>\n",
       "<table border=\"1\" class=\"dataframe\">\n",
       "  <thead>\n",
       "    <tr style=\"text-align: right;\">\n",
       "      <th></th>\n",
       "      <th>Name</th>\n",
       "      <th>Age</th>\n",
       "      <th>Salary</th>\n",
       "      <th>Status</th>\n",
       "    </tr>\n",
       "  </thead>\n",
       "  <tbody>\n",
       "    <tr>\n",
       "      <th>0</th>\n",
       "      <td>Mary</td>\n",
       "      <td>22</td>\n",
       "      <td>24000</td>\n",
       "      <td>Single</td>\n",
       "    </tr>\n",
       "    <tr>\n",
       "      <th>1</th>\n",
       "      <td>Faith</td>\n",
       "      <td>34</td>\n",
       "      <td>34000</td>\n",
       "      <td>Single</td>\n",
       "    </tr>\n",
       "    <tr>\n",
       "      <th>2</th>\n",
       "      <td>Harry</td>\n",
       "      <td>25</td>\n",
       "      <td>34000</td>\n",
       "      <td>Married</td>\n",
       "    </tr>\n",
       "    <tr>\n",
       "      <th>3</th>\n",
       "      <td>Gilbert</td>\n",
       "      <td>25</td>\n",
       "      <td>54000</td>\n",
       "      <td>Married</td>\n",
       "    </tr>\n",
       "    <tr>\n",
       "      <th>4</th>\n",
       "      <td>Vanessa</td>\n",
       "      <td>56</td>\n",
       "      <td>57000</td>\n",
       "      <td>Single</td>\n",
       "    </tr>\n",
       "  </tbody>\n",
       "</table>\n",
       "</div>"
      ],
      "text/plain": [
       "      Name  Age  Salary   Status\n",
       "0     Mary   22   24000   Single\n",
       "1    Faith   34   34000   Single\n",
       "2    Harry   25   34000  Married\n",
       "3  Gilbert   25   54000  Married\n",
       "4  Vanessa   56   57000   Single"
      ]
     },
     "execution_count": 11,
     "metadata": {},
     "output_type": "execute_result"
    }
   ],
   "source": [
    "data.head()"
   ]
  },
  {
   "cell_type": "code",
   "execution_count": 12,
   "id": "0d7921f1",
   "metadata": {},
   "outputs": [
    {
     "data": {
      "text/html": [
       "<div>\n",
       "<style scoped>\n",
       "    .dataframe tbody tr th:only-of-type {\n",
       "        vertical-align: middle;\n",
       "    }\n",
       "\n",
       "    .dataframe tbody tr th {\n",
       "        vertical-align: top;\n",
       "    }\n",
       "\n",
       "    .dataframe thead th {\n",
       "        text-align: right;\n",
       "    }\n",
       "</style>\n",
       "<table border=\"1\" class=\"dataframe\">\n",
       "  <thead>\n",
       "    <tr style=\"text-align: right;\">\n",
       "      <th></th>\n",
       "      <th>Name</th>\n",
       "      <th>Age</th>\n",
       "      <th>Salary</th>\n",
       "      <th>Status</th>\n",
       "    </tr>\n",
       "  </thead>\n",
       "  <tbody>\n",
       "    <tr>\n",
       "      <th>3</th>\n",
       "      <td>Gilbert</td>\n",
       "      <td>25</td>\n",
       "      <td>54000</td>\n",
       "      <td>Married</td>\n",
       "    </tr>\n",
       "    <tr>\n",
       "      <th>4</th>\n",
       "      <td>Vanessa</td>\n",
       "      <td>56</td>\n",
       "      <td>57000</td>\n",
       "      <td>Single</td>\n",
       "    </tr>\n",
       "    <tr>\n",
       "      <th>5</th>\n",
       "      <td>Mucheru</td>\n",
       "      <td>27</td>\n",
       "      <td>35000</td>\n",
       "      <td>Widowed</td>\n",
       "    </tr>\n",
       "    <tr>\n",
       "      <th>6</th>\n",
       "      <td>Alice</td>\n",
       "      <td>78</td>\n",
       "      <td>89000</td>\n",
       "      <td>Undefined</td>\n",
       "    </tr>\n",
       "    <tr>\n",
       "      <th>7</th>\n",
       "      <td>Mwangi</td>\n",
       "      <td>65</td>\n",
       "      <td>78000</td>\n",
       "      <td>Married</td>\n",
       "    </tr>\n",
       "  </tbody>\n",
       "</table>\n",
       "</div>"
      ],
      "text/plain": [
       "      Name  Age  Salary     Status\n",
       "3  Gilbert   25   54000    Married\n",
       "4  Vanessa   56   57000     Single\n",
       "5  Mucheru   27   35000    Widowed\n",
       "6    Alice   78   89000  Undefined\n",
       "7   Mwangi   65   78000    Married"
      ]
     },
     "execution_count": 12,
     "metadata": {},
     "output_type": "execute_result"
    }
   ],
   "source": [
    "data.tail()"
   ]
  },
  {
   "cell_type": "code",
   "execution_count": 13,
   "id": "db99d0df",
   "metadata": {},
   "outputs": [],
   "source": [
    "# Assigning Variables to columns\n",
    "x = data.Name\n",
    "y = data.Age\n"
   ]
  },
  {
   "cell_type": "code",
   "execution_count": 14,
   "id": "d2224d5d",
   "metadata": {},
   "outputs": [
    {
     "data": {
      "text/plain": [
       "0       Mary\n",
       "1      Faith\n",
       "2      Harry\n",
       "3    Gilbert\n",
       "4    Vanessa\n",
       "5    Mucheru\n",
       "6      Alice\n",
       "7     Mwangi\n",
       "Name: Name, dtype: object"
      ]
     },
     "execution_count": 14,
     "metadata": {},
     "output_type": "execute_result"
    }
   ],
   "source": [
    "x"
   ]
  },
  {
   "cell_type": "code",
   "execution_count": 15,
   "id": "475173a5",
   "metadata": {},
   "outputs": [
    {
     "data": {
      "text/plain": [
       "0    22\n",
       "1    34\n",
       "2    25\n",
       "3    25\n",
       "4    56\n",
       "5    27\n",
       "6    78\n",
       "7    65\n",
       "Name: Age, dtype: int32"
      ]
     },
     "execution_count": 15,
     "metadata": {},
     "output_type": "execute_result"
    }
   ],
   "source": [
    "y"
   ]
  },
  {
   "cell_type": "code",
   "execution_count": 16,
   "id": "4f1218f4",
   "metadata": {},
   "outputs": [
    {
     "data": {
      "image/png": "[encoded data removed]",
      "text/plain": [
       "<Figure size 432x288 with 1 Axes>"
      ]
     },
     "metadata": {
      "needs_background": "light"
     },
     "output_type": "display_data"
    }
   ],
   "source": [
    "# Plotting the first Line graph of Name against Age using Matplotlib\n",
    "plt.plot(x, y, color=\"Green\")\n",
    "plt.show()"
   ]
  },
  {
   "cell_type": "code",
   "execution_count": 17,
   "id": "47088cdc",
   "metadata": {},
   "outputs": [
    {
     "data": {
      "image/png": "[encoded data removed]",
      "text/plain": [
       "<Figure size 432x288 with 1 Axes>"
      ]
     },
     "metadata": {
      "needs_background": "light"
     },
     "output_type": "display_data"
    }
   ],
   "source": [
    "#Plotting a bar graph of name against salary\n",
    "z = data.Salary\n",
    "plt.bar(x, z, color=\"Orange\", width=0.4)\n",
    "plt.show()"
   ]
  },
  {
   "cell_type": "code",
   "execution_count": 18,
   "id": "68fe94a7",
   "metadata": {},
   "outputs": [
    {
     "data": {
      "image/png": "[encoded data removed]",
      "text/plain": [
       "<Figure size 432x288 with 1 Axes>"
      ]
     },
     "metadata": {
      "needs_background": "light"
     },
     "output_type": "display_data"
    }
   ],
   "source": [
    "# Scatter plot of age against salary\n",
    "plt.scatter(y, z, color=\"purple\")\n",
    "plt.show()"
   ]
  },
  {
   "cell_type": "code",
   "execution_count": 19,
   "id": "24b67b5d",
   "metadata": {},
   "outputs": [],
   "source": [
    "#Creating a csv using pandas\n",
    "data.to_csv(\"data.csv\", index=False)"
   ]
  },
  {
   "cell_type": "code",
   "execution_count": 29,
   "id": "600bd750",
   "metadata": {},
   "outputs": [],
   "source": [
    "# Creating a new data items\n",
    "# A new dataset containing student marks\n",
    "dict_mks = {'Name':['Andrew', 'Anne', 'John', 'Mark', 'Alex', 'Mutanu', 'Munene', 'Wanjiru', 'Okoi', 'Muli'], \n",
    "           'English': [45, 67, 78, 45, 67, 78, 89, 56, 89, 56], \n",
    "           'Mathematics': [78, 67, 56, 78, 47, 89, 67, 78, 35, 56], \n",
    "           'Computer Studies': [45, 68, 67, 58, 57, 78, 68, 56, 67, 89]}\n"
   ]
  },
  {
   "cell_type": "code",
   "execution_count": 30,
   "id": "825d6606",
   "metadata": {},
   "outputs": [
    {
     "data": {
      "text/html": [
       "<div>\n",
       "<style scoped>\n",
       "    .dataframe tbody tr th:only-of-type {\n",
       "        vertical-align: middle;\n",
       "    }\n",
       "\n",
       "    .dataframe tbody tr th {\n",
       "        vertical-align: top;\n",
       "    }\n",
       "\n",
       "    .dataframe thead th {\n",
       "        text-align: right;\n",
       "    }\n",
       "</style>\n",
       "<table border=\"1\" class=\"dataframe\">\n",
       "  <thead>\n",
       "    <tr style=\"text-align: right;\">\n",
       "      <th></th>\n",
       "      <th>Name</th>\n",
       "      <th>English</th>\n",
       "      <th>Mathematics</th>\n",
       "      <th>Computer Studies</th>\n",
       "    </tr>\n",
       "  </thead>\n",
       "  <tbody>\n",
       "    <tr>\n",
       "      <th>0</th>\n",
       "      <td>Andrew</td>\n",
       "      <td>45</td>\n",
       "      <td>78</td>\n",
       "      <td>45</td>\n",
       "    </tr>\n",
       "    <tr>\n",
       "      <th>1</th>\n",
       "      <td>Anne</td>\n",
       "      <td>67</td>\n",
       "      <td>67</td>\n",
       "      <td>68</td>\n",
       "    </tr>\n",
       "    <tr>\n",
       "      <th>2</th>\n",
       "      <td>John</td>\n",
       "      <td>78</td>\n",
       "      <td>56</td>\n",
       "      <td>67</td>\n",
       "    </tr>\n",
       "    <tr>\n",
       "      <th>3</th>\n",
       "      <td>Mark</td>\n",
       "      <td>45</td>\n",
       "      <td>78</td>\n",
       "      <td>58</td>\n",
       "    </tr>\n",
       "    <tr>\n",
       "      <th>4</th>\n",
       "      <td>Alex</td>\n",
       "      <td>67</td>\n",
       "      <td>47</td>\n",
       "      <td>57</td>\n",
       "    </tr>\n",
       "    <tr>\n",
       "      <th>5</th>\n",
       "      <td>Mutanu</td>\n",
       "      <td>78</td>\n",
       "      <td>89</td>\n",
       "      <td>78</td>\n",
       "    </tr>\n",
       "    <tr>\n",
       "      <th>6</th>\n",
       "      <td>Munene</td>\n",
       "      <td>89</td>\n",
       "      <td>67</td>\n",
       "      <td>68</td>\n",
       "    </tr>\n",
       "    <tr>\n",
       "      <th>7</th>\n",
       "      <td>Wanjiru</td>\n",
       "      <td>56</td>\n",
       "      <td>78</td>\n",
       "      <td>56</td>\n",
       "    </tr>\n",
       "    <tr>\n",
       "      <th>8</th>\n",
       "      <td>Okoi</td>\n",
       "      <td>89</td>\n",
       "      <td>35</td>\n",
       "      <td>67</td>\n",
       "    </tr>\n",
       "    <tr>\n",
       "      <th>9</th>\n",
       "      <td>Muli</td>\n",
       "      <td>56</td>\n",
       "      <td>56</td>\n",
       "      <td>89</td>\n",
       "    </tr>\n",
       "  </tbody>\n",
       "</table>\n",
       "</div>"
      ],
      "text/plain": [
       "      Name  English  Mathematics  Computer Studies\n",
       "0   Andrew       45           78                45\n",
       "1     Anne       67           67                68\n",
       "2     John       78           56                67\n",
       "3     Mark       45           78                58\n",
       "4     Alex       67           47                57\n",
       "5   Mutanu       78           89                78\n",
       "6   Munene       89           67                68\n",
       "7  Wanjiru       56           78                56\n",
       "8     Okoi       89           35                67\n",
       "9     Muli       56           56                89"
      ]
     },
     "execution_count": 30,
     "metadata": {},
     "output_type": "execute_result"
    }
   ],
   "source": [
    "#convert to a dataframe\n",
    "marks  = pd.DataFrame(dict_mks)\n",
    "marks"
   ]
  },
  {
   "cell_type": "code",
   "execution_count": 32,
   "id": "68fca75d",
   "metadata": {},
   "outputs": [
    {
     "data": {
      "image/png": "[encoded data removed]",
      "text/plain": [
       "<Figure size 432x288 with 1 Axes>"
      ]
     },
     "metadata": {
      "needs_background": "light"
     },
     "output_type": "display_data"
    }
   ],
   "source": [
    "#display a graph of maths against english\n",
    "x = marks.Mathematics\n",
    "y = marks.English\n",
    "z = [1,2,3,4,5,6,7,8,9,10]\n",
    "\n",
    "plt.plot(z, y, color=\"Orange\")\n",
    "plt.plot(z, x, color='Green')\n",
    "plt.show()"
   ]
  },
  {
   "cell_type": "code",
   "execution_count": null,
   "id": "e9d40b0b",
   "metadata": {},
   "outputs": [],
   "source": [
    "#Bar Graph \n",
    "plt.bar(z, x, color='Green', width=)\n",
    "plt.bar(z, y, color='Yellow')\n",
    "plt.show"
   ]
  }
 ],
 "metadata": {
  "kernelspec": {
   "display_name": "Python 3 (ipykernel)",
   "language": "python",
   "name": "python3"
  },
  "language_info": {
   "codemirror_mode": {
    "name": "ipython",
    "version": 3
   },
   "file_extension": ".py",
   "mimetype": "text/x-python",
   "name": "python",
   "nbconvert_exporter": "python",
   "pygments_lexer": "ipython3",
   "version": "3.9.12"
  }
 },
 "nbformat": 4,
 "nbformat_minor": 5
}
