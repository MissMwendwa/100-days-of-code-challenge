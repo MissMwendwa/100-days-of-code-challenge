{
 "cells": [
  {
   "cell_type": "markdown",
   "id": "0699beb2",
   "metadata": {},
   "source": [
    "# Data Analysis "
   ]
  },
  {
   "cell_type": "markdown",
   "id": "1206a1e4",
   "metadata": {},
   "source": [
    "In this notebook, I will be working with 3 Libraries. MatplotLib, Pandas and Numpy to try and recap on what I know about these libraries.\n",
    "I will create dictionaries and convert them to dataframes using pandas then export them as csvs. Then use Matplotlib to visualize them."
   ]
  },
  {
   "cell_type": "code",
   "execution_count": 1,
   "id": "1740b4ea",
   "metadata": {},
   "outputs": [],
   "source": [
    "#Imports\n",
    "import pandas as pd\n",
    "import numpy as np\n",
    "import matplotlib.pyplot as plt"
   ]
  },
  {
   "cell_type": "code",
   "execution_count": 2,
   "id": "e70b6384",
   "metadata": {},
   "outputs": [],
   "source": [
    "#Creating Numpy arrays\n",
    "arr = np.array([22, 34, 25, 25, 56, 27, 78, 65])\n",
    "arr2 = np.array(['Mary', 'Faith', 'Harry', 'Gilbert', 'Vanessa', 'Mucheru', 'Alice', 'Mwangi'])\n",
    "arr3 = np.array([24000, 34000, 34000, 54000, 57000, 35000, 89000, 78000])"
   ]
  },
  {
   "cell_type": "code",
   "execution_count": 7,
   "id": "d7f94f75",
   "metadata": {},
   "outputs": [],
   "source": [
    "#Creating Dictionary using the np arrays \n",
    "Salary = {'Name': arr2,\n",
    "         'Age' : arr, \n",
    "         'Salary': arr3}"
   ]
  },
  {
   "cell_type": "code",
   "execution_count": 8,
   "id": "21723a3c",
   "metadata": {},
   "outputs": [
    {
     "data": {
      "text/plain": [
       "{'Name': array(['Mary', 'Faith', 'Harry', 'Gilbert', 'Vanessa', 'Mucheru', 'Alice',\n",
       "        'Mwangi'], dtype='<U7'),\n",
       " 'Age': array([22, 34, 25, 25, 56, 27, 78, 65]),\n",
       " 'Salary': array([24000, 34000, 34000, 54000, 57000, 35000, 89000, 78000])}"
      ]
     },
     "execution_count": 8,
     "metadata": {},
     "output_type": "execute_result"
    }
   ],
   "source": [
    "#displaying the dictionary\n",
    "Salary"
   ]
  },
  {
   "cell_type": "code",
   "execution_count": 11,
   "id": "bcc89ba4",
   "metadata": {},
   "outputs": [],
   "source": [
    "#Adding more information to the dictionary\n",
    "Salary = {'Name': arr2,\n",
    "         'Age' : arr, \n",
    "         'Salary': arr3,\n",
    "    'Status': ['Single', 'Single', 'Married', 'Married', 'Single', 'Widowed', 'Undefined', 'Married']}"
   ]
  },
  {
   "cell_type": "code",
   "execution_count": 12,
   "id": "2972f937",
   "metadata": {},
   "outputs": [
    {
     "data": {
      "text/plain": [
       "{'Name': array(['Mary', 'Faith', 'Harry', 'Gilbert', 'Vanessa', 'Mucheru', 'Alice',\n",
       "        'Mwangi'], dtype='<U7'),\n",
       " 'Age': array([22, 34, 25, 25, 56, 27, 78, 65]),\n",
       " 'Salary': array([24000, 34000, 34000, 54000, 57000, 35000, 89000, 78000]),\n",
       " 'Status': ['Single',\n",
       "  'Single',\n",
       "  'Married',\n",
       "  'Married',\n",
       "  'Single',\n",
       "  'Widowed',\n",
       "  'Undefined',\n",
       "  'Married']}"
      ]
     },
     "execution_count": 12,
     "metadata": {},
     "output_type": "execute_result"
    }
   ],
   "source": [
    "Salary"
   ]
  },
  {
   "cell_type": "code",
   "execution_count": 13,
   "id": "201985ba",
   "metadata": {},
   "outputs": [
    {
     "data": {
      "text/html": [
       "<div>\n",
       "<style scoped>\n",
       "    .dataframe tbody tr th:only-of-type {\n",
       "        vertical-align: middle;\n",
       "    }\n",
       "\n",
       "    .dataframe tbody tr th {\n",
       "        vertical-align: top;\n",
       "    }\n",
       "\n",
       "    .dataframe thead th {\n",
       "        text-align: right;\n",
       "    }\n",
       "</style>\n",
       "<table border=\"1\" class=\"dataframe\">\n",
       "  <thead>\n",
       "    <tr style=\"text-align: right;\">\n",
       "      <th></th>\n",
       "      <th>Name</th>\n",
       "      <th>Age</th>\n",
       "      <th>Salary</th>\n",
       "      <th>Status</th>\n",
       "    </tr>\n",
       "  </thead>\n",
       "  <tbody>\n",
       "    <tr>\n",
       "      <th>0</th>\n",
       "      <td>Mary</td>\n",
       "      <td>22</td>\n",
       "      <td>24000</td>\n",
       "      <td>Single</td>\n",
       "    </tr>\n",
       "    <tr>\n",
       "      <th>1</th>\n",
       "      <td>Faith</td>\n",
       "      <td>34</td>\n",
       "      <td>34000</td>\n",
       "      <td>Single</td>\n",
       "    </tr>\n",
       "    <tr>\n",
       "      <th>2</th>\n",
       "      <td>Harry</td>\n",
       "      <td>25</td>\n",
       "      <td>34000</td>\n",
       "      <td>Married</td>\n",
       "    </tr>\n",
       "    <tr>\n",
       "      <th>3</th>\n",
       "      <td>Gilbert</td>\n",
       "      <td>25</td>\n",
       "      <td>54000</td>\n",
       "      <td>Married</td>\n",
       "    </tr>\n",
       "    <tr>\n",
       "      <th>4</th>\n",
       "      <td>Vanessa</td>\n",
       "      <td>56</td>\n",
       "      <td>57000</td>\n",
       "      <td>Single</td>\n",
       "    </tr>\n",
       "    <tr>\n",
       "      <th>5</th>\n",
       "      <td>Mucheru</td>\n",
       "      <td>27</td>\n",
       "      <td>35000</td>\n",
       "      <td>Widowed</td>\n",
       "    </tr>\n",
       "    <tr>\n",
       "      <th>6</th>\n",
       "      <td>Alice</td>\n",
       "      <td>78</td>\n",
       "      <td>89000</td>\n",
       "      <td>Undefined</td>\n",
       "    </tr>\n",
       "    <tr>\n",
       "      <th>7</th>\n",
       "      <td>Mwangi</td>\n",
       "      <td>65</td>\n",
       "      <td>78000</td>\n",
       "      <td>Married</td>\n",
       "    </tr>\n",
       "  </tbody>\n",
       "</table>\n",
       "</div>"
      ],
      "text/plain": [
       "      Name  Age  Salary     Status\n",
       "0     Mary   22   24000     Single\n",
       "1    Faith   34   34000     Single\n",
       "2    Harry   25   34000    Married\n",
       "3  Gilbert   25   54000    Married\n",
       "4  Vanessa   56   57000     Single\n",
       "5  Mucheru   27   35000    Widowed\n",
       "6    Alice   78   89000  Undefined\n",
       "7   Mwangi   65   78000    Married"
      ]
     },
     "execution_count": 13,
     "metadata": {},
     "output_type": "execute_result"
    }
   ],
   "source": [
    "#Converting the dictionary into a dataframe\n",
    "data = pd.DataFrame(Salary)\n",
    "data"
   ]
  },
  {
   "cell_type": "code",
   "execution_count": 14,
   "id": "e9909d37",
   "metadata": {},
   "outputs": [
    {
     "data": {
      "text/html": [
       "<div>\n",
       "<style scoped>\n",
       "    .dataframe tbody tr th:only-of-type {\n",
       "        vertical-align: middle;\n",
       "    }\n",
       "\n",
       "    .dataframe tbody tr th {\n",
       "        vertical-align: top;\n",
       "    }\n",
       "\n",
       "    .dataframe thead th {\n",
       "        text-align: right;\n",
       "    }\n",
       "</style>\n",
       "<table border=\"1\" class=\"dataframe\">\n",
       "  <thead>\n",
       "    <tr style=\"text-align: right;\">\n",
       "      <th></th>\n",
       "      <th>Name</th>\n",
       "      <th>Age</th>\n",
       "      <th>Salary</th>\n",
       "      <th>Status</th>\n",
       "    </tr>\n",
       "  </thead>\n",
       "  <tbody>\n",
       "    <tr>\n",
       "      <th>0</th>\n",
       "      <td>Mary</td>\n",
       "      <td>22</td>\n",
       "      <td>24000</td>\n",
       "      <td>Single</td>\n",
       "    </tr>\n",
       "    <tr>\n",
       "      <th>1</th>\n",
       "      <td>Faith</td>\n",
       "      <td>34</td>\n",
       "      <td>34000</td>\n",
       "      <td>Single</td>\n",
       "    </tr>\n",
       "    <tr>\n",
       "      <th>2</th>\n",
       "      <td>Harry</td>\n",
       "      <td>25</td>\n",
       "      <td>34000</td>\n",
       "      <td>Married</td>\n",
       "    </tr>\n",
       "    <tr>\n",
       "      <th>3</th>\n",
       "      <td>Gilbert</td>\n",
       "      <td>25</td>\n",
       "      <td>54000</td>\n",
       "      <td>Married</td>\n",
       "    </tr>\n",
       "    <tr>\n",
       "      <th>4</th>\n",
       "      <td>Vanessa</td>\n",
       "      <td>56</td>\n",
       "      <td>57000</td>\n",
       "      <td>Single</td>\n",
       "    </tr>\n",
       "    <tr>\n",
       "      <th>5</th>\n",
       "      <td>Mucheru</td>\n",
       "      <td>27</td>\n",
       "      <td>35000</td>\n",
       "      <td>Widowed</td>\n",
       "    </tr>\n",
       "  </tbody>\n",
       "</table>\n",
       "</div>"
      ],
      "text/plain": [
       "      Name  Age  Salary   Status\n",
       "0     Mary   22   24000   Single\n",
       "1    Faith   34   34000   Single\n",
       "2    Harry   25   34000  Married\n",
       "3  Gilbert   25   54000  Married\n",
       "4  Vanessa   56   57000   Single\n",
       "5  Mucheru   27   35000  Widowed"
      ]
     },
     "execution_count": 14,
     "metadata": {},
     "output_type": "execute_result"
    }
   ],
   "source": [
    "data[:6]"
   ]
  },
  {
   "cell_type": "code",
   "execution_count": 15,
   "id": "092a0c96",
   "metadata": {},
   "outputs": [
    {
     "data": {
      "text/html": [
       "<div>\n",
       "<style scoped>\n",
       "    .dataframe tbody tr th:only-of-type {\n",
       "        vertical-align: middle;\n",
       "    }\n",
       "\n",
       "    .dataframe tbody tr th {\n",
       "        vertical-align: top;\n",
       "    }\n",
       "\n",
       "    .dataframe thead th {\n",
       "        text-align: right;\n",
       "    }\n",
       "</style>\n",
       "<table border=\"1\" class=\"dataframe\">\n",
       "  <thead>\n",
       "    <tr style=\"text-align: right;\">\n",
       "      <th></th>\n",
       "      <th>Name</th>\n",
       "      <th>Age</th>\n",
       "      <th>Salary</th>\n",
       "      <th>Status</th>\n",
       "    </tr>\n",
       "  </thead>\n",
       "  <tbody>\n",
       "    <tr>\n",
       "      <th>1</th>\n",
       "      <td>Faith</td>\n",
       "      <td>34</td>\n",
       "      <td>34000</td>\n",
       "      <td>Single</td>\n",
       "    </tr>\n",
       "    <tr>\n",
       "      <th>2</th>\n",
       "      <td>Harry</td>\n",
       "      <td>25</td>\n",
       "      <td>34000</td>\n",
       "      <td>Married</td>\n",
       "    </tr>\n",
       "    <tr>\n",
       "      <th>3</th>\n",
       "      <td>Gilbert</td>\n",
       "      <td>25</td>\n",
       "      <td>54000</td>\n",
       "      <td>Married</td>\n",
       "    </tr>\n",
       "    <tr>\n",
       "      <th>4</th>\n",
       "      <td>Vanessa</td>\n",
       "      <td>56</td>\n",
       "      <td>57000</td>\n",
       "      <td>Single</td>\n",
       "    </tr>\n",
       "    <tr>\n",
       "      <th>5</th>\n",
       "      <td>Mucheru</td>\n",
       "      <td>27</td>\n",
       "      <td>35000</td>\n",
       "      <td>Widowed</td>\n",
       "    </tr>\n",
       "    <tr>\n",
       "      <th>6</th>\n",
       "      <td>Alice</td>\n",
       "      <td>78</td>\n",
       "      <td>89000</td>\n",
       "      <td>Undefined</td>\n",
       "    </tr>\n",
       "    <tr>\n",
       "      <th>7</th>\n",
       "      <td>Mwangi</td>\n",
       "      <td>65</td>\n",
       "      <td>78000</td>\n",
       "      <td>Married</td>\n",
       "    </tr>\n",
       "  </tbody>\n",
       "</table>\n",
       "</div>"
      ],
      "text/plain": [
       "      Name  Age  Salary     Status\n",
       "1    Faith   34   34000     Single\n",
       "2    Harry   25   34000    Married\n",
       "3  Gilbert   25   54000    Married\n",
       "4  Vanessa   56   57000     Single\n",
       "5  Mucheru   27   35000    Widowed\n",
       "6    Alice   78   89000  Undefined\n",
       "7   Mwangi   65   78000    Married"
      ]
     },
     "execution_count": 15,
     "metadata": {},
     "output_type": "execute_result"
    }
   ],
   "source": [
    "data[1:]"
   ]
  },
  {
   "cell_type": "code",
   "execution_count": 16,
   "id": "ffe9c205",
   "metadata": {},
   "outputs": [
    {
     "name": "stderr",
     "output_type": "stream",
     "text": [
      "C:\\Users\\Miss Gloriah\\AppData\\Local\\Temp\\ipykernel_3512\\2723740006.py:1: FutureWarning: Dropping of nuisance columns in DataFrame reductions (with 'numeric_only=None') is deprecated; in a future version this will raise TypeError.  Select only valid columns before calling the reduction.\n",
      "  data.std()\n"
     ]
    },
    {
     "data": {
      "text/plain": [
       "Age          21.66630\n",
       "Salary    23237.51585\n",
       "dtype: float64"
      ]
     },
     "execution_count": 16,
     "metadata": {},
     "output_type": "execute_result"
    }
   ],
   "source": [
    "data.std()"
   ]
  },
  {
   "cell_type": "code",
   "execution_count": 1,
   "id": "f655822f",
   "metadata": {},
   "outputs": [
    {
     "ename": "NameError",
     "evalue": "name 'data' is not defined",
     "output_type": "error",
     "traceback": [
      "\u001b[1;31m---------------------------------------------------------------------------\u001b[0m",
      "\u001b[1;31mNameError\u001b[0m                                 Traceback (most recent call last)",
      "\u001b[1;32mc:\\Users\\Miss Gloriah\\Desktop\\100 days of code challenge\\Notebooks\\Data Analysis.ipynb Cell 13\u001b[0m in \u001b[0;36m<cell line: 2>\u001b[1;34m()\u001b[0m\n\u001b[0;32m      <a href='vscode-notebook-cell:/c%3A/Users/Miss%20Gloriah/Desktop/100%20days%20of%20code%20challenge/Notebooks/Data%20Analysis.ipynb#X16sZmlsZQ%3D%3D?line=0'>1</a>\u001b[0m \u001b[39m#assigning variables\u001b[39;00m\n\u001b[1;32m----> <a href='vscode-notebook-cell:/c%3A/Users/Miss%20Gloriah/Desktop/100%20days%20of%20code%20challenge/Notebooks/Data%20Analysis.ipynb#X16sZmlsZQ%3D%3D?line=1'>2</a>\u001b[0m x \u001b[39m=\u001b[39m data\u001b[39m.\u001b[39mName()\n\u001b[0;32m      <a href='vscode-notebook-cell:/c%3A/Users/Miss%20Gloriah/Desktop/100%20days%20of%20code%20challenge/Notebooks/Data%20Analysis.ipynb#X16sZmlsZQ%3D%3D?line=2'>3</a>\u001b[0m y \u001b[39m=\u001b[39m data\u001b[39m.\u001b[39mSalary()\n",
      "\u001b[1;31mNameError\u001b[0m: name 'data' is not defined"
     ]
    }
   ],
   "source": [
    "#assigning variables\n",
    "x = data.Name()\n",
    "y = data.Salary()"
   ]
  }
 ],
 "metadata": {
  "kernelspec": {
   "display_name": "Python 3 (ipykernel)",
   "language": "python",
   "name": "python3"
  },
  "language_info": {
   "codemirror_mode": {
    "name": "ipython",
    "version": 3
   },
   "file_extension": ".py",
   "mimetype": "text/x-python",
   "name": "python",
   "nbconvert_exporter": "python",
   "pygments_lexer": "ipython3",
   "version": "3.9.12"
  },
  "vscode": {
   "interpreter": {
    "hash": "a1b5909edfb186712e55d8a14555e2b24a3c434526c294b890272aafa51db059"
   }
  }
 },
 "nbformat": 4,
 "nbformat_minor": 5
}
