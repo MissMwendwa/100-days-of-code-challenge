{
 "cells": [
  {
   "cell_type": "markdown",
   "id": "58a09a0d",
   "metadata": {},
   "source": [
    "# Python Operations & Functions"
   ]
  },
  {
   "cell_type": "code",
   "execution_count": 6,
   "id": "7c869e8d",
   "metadata": {},
   "outputs": [
    {
     "name": "stdout",
     "output_type": "stream",
     "text": [
      "Enter the amount: 45000\n",
      " Enter the time: 5\n",
      "33750.0\n"
     ]
    }
   ],
   "source": [
    "# Function to calculate\n",
    "def interest(amount, time, rate):\n",
    "    interest = (amount *time *rate)\n",
    "    print(interest)\n",
    "    \n",
    "    \n",
    "# Take in user input\n",
    "amount = float(input(\"Enter the amount: \"))\n",
    "rate = 0.15\n",
    "time = float(input(\" Enter the time: \"))\n",
    "\n",
    "\n",
    "# Driver's function\n",
    "interest(amount, time, rate)"
   ]
  },
  {
   "cell_type": "code",
   "execution_count": 7,
   "id": "d0b0c987",
   "metadata": {},
   "outputs": [
    {
     "name": "stdout",
     "output_type": "stream",
     "text": [
      "Enter the amount: 45000\n",
      " Enter the time: 4\n",
      "324000.0\n"
     ]
    }
   ],
   "source": [
    "# Function to calculate compound interest\n",
    "def comp(amount, time, rate):\n",
    "    interest = (amount * rate)*(12*time)\n",
    "    print(interest)\n",
    "    \n",
    "# Take in user input\n",
    "amount = float(input(\"Enter the amount: \"))\n",
    "rate = 0.15\n",
    "time = float(input(\" Enter the time: \"))\n",
    "\n",
    "\n",
    "# Driver's function\n",
    "comp(amount, time, rate)"
   ]
  },
  {
   "cell_type": "code",
   "execution_count": 12,
   "id": "2094c568",
   "metadata": {},
   "outputs": [
    {
     "name": "stdout",
     "output_type": "stream",
     "text": [
      "Enter the width: 45\n",
      "Enter the length: 15\n",
      "Enter the height: 12\n",
      "45.0\n",
      "15.0\n",
      "12.0\n"
     ]
    }
   ],
   "source": [
    "# Fucntions to calculate area, Perimeter & Volume using classes & Functions\n",
    "class values:\n",
    "    width = float(input(\"Enter the width: \"))\n",
    "    length = float(input(\"Enter the length: \"))\n",
    "    height = float(input(\"Enter the height: \"))\n",
    "    \n",
    "# Function to calculate perimeter\n",
    "def per(self, width, length):\n",
    "    perimeter = (self.width + self.length)*2\n",
    "    print('The perimeter is ', perimeter)\n",
    "    \n",
    "# function to calculate area\n",
    "def area(self, width, length):\n",
    "    area = self.width * self.length\n",
    "    print('The area is ', area)\n",
    "    \n",
    "# function to calculate volume\n",
    "def vol(self, length, width, height):\n",
    "    volume = self.width * self.length * self.height\n",
    "    print('The volume is ', volume)\n",
    "    \n",
    "# driver code\n",
    "rectangle = values()\n",
    "print(rectangle.width)\n",
    "print(rectangle.length)\n",
    "print(rectangle.height)\n",
    "\n"
   ]
  },
  {
   "cell_type": "code",
   "execution_count": null,
   "id": "b034a087",
   "metadata": {},
   "outputs": [],
   "source": []
  }
 ],
 "metadata": {
  "kernelspec": {
   "display_name": "Python 3 (ipykernel)",
   "language": "python",
   "name": "python3"
  },
  "language_info": {
   "codemirror_mode": {
    "name": "ipython",
    "version": 3
   },
   "file_extension": ".py",
   "mimetype": "text/x-python",
   "name": "python",
   "nbconvert_exporter": "python",
   "pygments_lexer": "ipython3",
   "version": "3.9.12"
  }
 },
 "nbformat": 4,
 "nbformat_minor": 5
}
