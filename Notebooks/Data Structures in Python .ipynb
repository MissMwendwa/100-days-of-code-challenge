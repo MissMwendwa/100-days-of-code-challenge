{
 "cells": [
  {
   "cell_type": "markdown",
   "id": "128c8dc0",
   "metadata": {},
   "source": [
    "# Python Data Structures Practise"
   ]
  },
  {
   "cell_type": "markdown",
   "id": "b838435d",
   "metadata": {},
   "source": [
    "Today, let's explore what data structures are in Python and how they can be manipulated. Using various functions to add data and remove data in the structure."
   ]
  },
  {
   "cell_type": "code",
   "execution_count": 1,
   "id": "9c3c3f63",
   "metadata": {},
   "outputs": [
    {
     "data": {
      "text/plain": [
       "['Damon', 'Is', 36, 'Years']"
      ]
     },
     "execution_count": 1,
     "metadata": {},
     "output_type": "execute_result"
    }
   ],
   "source": [
    "# Creating a basic List structure\n",
    "My_list = ['Damon', 'Is', 36, 'Years']\n",
    "My_list"
   ]
  },
  {
   "cell_type": "code",
   "execution_count": 2,
   "id": "d943a9e3",
   "metadata": {},
   "outputs": [
    {
     "name": "stdout",
     "output_type": "stream",
     "text": [
      "['Mucheru', 'alman', 'Hope', 'Yasmin', 'alvaro', 'faith', 'Tulin']\n",
      "['Yasmin', 'alvaro', 'faith', 'Tulin']\n"
     ]
    }
   ],
   "source": [
    "#Creating an empty list and adding data to it\n",
    "names = list()\n",
    "names.append('Mucheru')\n",
    "names.append('alman')\n",
    "names.append('Hope')\n",
    "names.append('Yasmin')\n",
    "names.append('alvaro')\n",
    "names.append('faith')\n",
    "names.append('Tulin')\n",
    "\n",
    "#Display the list\n",
    "print(names)\n",
    "\n",
    "#print a selected items\n",
    "print(names[3:])"
   ]
  },
  {
   "cell_type": "code",
   "execution_count": 3,
   "id": "bd1c569b",
   "metadata": {},
   "outputs": [],
   "source": [
    "# Creating a dictionary\n",
    "courses = {'Course': ['English', 'Advanced Maths', 'Pure Physics', 'Computer science']}"
   ]
  },
  {
   "cell_type": "code",
   "execution_count": 6,
   "id": "0885797d",
   "metadata": {},
   "outputs": [
    {
     "name": "stdout",
     "output_type": "stream",
     "text": [
      "How many integers? 6\n",
      "6\n"
     ]
    },
    {
     "ename": "TypeError",
     "evalue": "int() argument must be a string, a bytes-like object or a number, not 'NoneType'",
     "output_type": "error",
     "traceback": [
      "\u001b[1;31m---------------------------------------------------------------------------\u001b[0m",
      "\u001b[1;31mTypeError\u001b[0m                                 Traceback (most recent call last)",
      "Input \u001b[1;32mIn [6]\u001b[0m, in \u001b[0;36m<cell line: 5>\u001b[1;34m()\u001b[0m\n\u001b[0;32m      4\u001b[0m \u001b[38;5;66;03m#Try catch block to change input to integers\u001b[39;00m\n\u001b[0;32m      5\u001b[0m \u001b[38;5;28;01mtry\u001b[39;00m:\n\u001b[1;32m----> 6\u001b[0m     tar\u001b[38;5;241m=\u001b[39m\u001b[38;5;28;43mint\u001b[39;49m\u001b[43m(\u001b[49m\u001b[43mtarget\u001b[49m\u001b[43m)\u001b[49m\n\u001b[0;32m      7\u001b[0m \u001b[38;5;28;01mexcept\u001b[39;00m \u001b[38;5;167;01mValueError\u001b[39;00m:\n\u001b[0;32m      8\u001b[0m     \u001b[38;5;28mprint\u001b[39m(\u001b[38;5;124m'\u001b[39m\u001b[38;5;124mYou Must enter an Integer\u001b[39m\u001b[38;5;124m'\u001b[39m)\n",
      "\u001b[1;31mTypeError\u001b[0m: int() argument must be a string, a bytes-like object or a number, not 'NoneType'"
     ]
    }
   ],
   "source": [
    "# Creating a program that uses loops and lists\n",
    "target = print(input('How many integers? '))\n",
    "\n",
    "#Try catch block to change input to integers\n",
    "try:\n",
    "    tar=int(target)\n",
    "except ValueError:\n",
    "    print('You Must enter an Integer')\n",
    "    \n",
    "#The control block\n",
    "instance = list()\n",
    "\n",
    "num = 0\n",
    "\n",
    "while num<target:\n",
    "    new_target = raw_input('Enter the integer {0}'.format(num+1))\n",
    "    isint = False\n",
    "    \n",
    "    try:\n",
    "        new_int = int(new_target)\n",
    "    except:\n",
    "        print('Enter an Integer Number!')\n",
    "        \n",
    "        \n",
    "    # Checking the validity of the int\n",
    "    if isint == True:\n",
    "        instance.append(new_int)\n",
    "        num +=1\n",
    "        \n",
    "        \n",
    "# Using for loop\n",
    "for value in instance:\n",
    "    print(str(value))\n",
    "        \n",
    "        \n",
    "        \n",
    "\n"
   ]
  },
  {
   "cell_type": "code",
   "execution_count": null,
   "id": "95523160",
   "metadata": {},
   "outputs": [],
   "source": []
  }
 ],
 "metadata": {
  "kernelspec": {
   "display_name": "Python 3 (ipykernel)",
   "language": "python",
   "name": "python3"
  },
  "language_info": {
   "codemirror_mode": {
    "name": "ipython",
    "version": 3
   },
   "file_extension": ".py",
   "mimetype": "text/x-python",
   "name": "python",
   "nbconvert_exporter": "python",
   "pygments_lexer": "ipython3",
   "version": "3.9.12"
  }
 },
 "nbformat": 4,
 "nbformat_minor": 5
}
