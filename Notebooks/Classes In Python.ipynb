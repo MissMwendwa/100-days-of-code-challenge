{
 "cells": [
  {
   "cell_type": "markdown",
   "id": "a742f04a",
   "metadata": {},
   "source": [
    "# Python Classes"
   ]
  },
  {
   "cell_type": "code",
   "execution_count": 1,
   "id": "dba5c92b",
   "metadata": {},
   "outputs": [],
   "source": [
    "# A simple class\n",
    "class student:\n",
    "    def __init__(self, name, age):\n",
    "        self.first_name = name\n",
    "        self.age = age\n",
    "\n",
    "# A method to get the name\n",
    "    def get_name(self):\n",
    "        return self.first_name\n",
    "# method to get age\n",
    "    def get_age(self):\n",
    "        return self.age\n",
    "# Passing Parameters\n",
    "stud = student('Mutheu', 15)"
   ]
  },
  {
   "cell_type": "code",
   "execution_count": 2,
   "id": "a3dc9a45",
   "metadata": {},
   "outputs": [
    {
     "data": {
      "text/plain": [
       "'Mutheu'"
      ]
     },
     "execution_count": 2,
     "metadata": {},
     "output_type": "execute_result"
    }
   ],
   "source": [
    "# Calling details\n",
    "stud.first_name"
   ]
  },
  {
   "cell_type": "code",
   "execution_count": 3,
   "id": "1660509a",
   "metadata": {},
   "outputs": [
    {
     "data": {
      "text/plain": [
       "'Mutheu'"
      ]
     },
     "execution_count": 3,
     "metadata": {},
     "output_type": "execute_result"
    }
   ],
   "source": [
    "stud.get_name()"
   ]
  },
  {
   "cell_type": "code",
   "execution_count": 4,
   "id": "b8d64e8c",
   "metadata": {},
   "outputs": [
    {
     "data": {
      "text/plain": [
       "15"
      ]
     },
     "execution_count": 4,
     "metadata": {},
     "output_type": "execute_result"
    }
   ],
   "source": [
    "stud.get_age()"
   ]
  },
  {
   "cell_type": "code",
   "execution_count": 6,
   "id": "0cb35a09",
   "metadata": {},
   "outputs": [],
   "source": [
    "# A simple class to calculate area, perimeter & Volume\n",
    "class Rectangle:\n",
    "    \n",
    "    #data holder\n",
    "    def __init__(self, width, height, length):\n",
    "        self.width = width\n",
    "        self.height = height\n",
    "        self.length = length\n",
    "        \n",
    "    # method to calculate perimeter\n",
    "    def perimeter(self):\n",
    "        perimeter = (self.width + self.length)* 2\n",
    "        return perimeter\n",
    "    \n",
    "    # method to calculate area\n",
    "    def area(self):\n",
    "        area = self.width * self.length\n",
    "        return area\n",
    "    \n",
    "    # method to calculate volume\n",
    "    def volume(self):\n",
    "        volume = self.width * self.length * self.height\n",
    "        return volume\n",
    "    \n",
    "# Creating an object\n",
    "rect = Rectangle(34, 42, 15)"
   ]
  },
  {
   "cell_type": "code",
   "execution_count": 7,
   "id": "7bd09bf6",
   "metadata": {},
   "outputs": [
    {
     "data": {
      "text/plain": [
       "510"
      ]
     },
     "execution_count": 7,
     "metadata": {},
     "output_type": "execute_result"
    }
   ],
   "source": [
    "# Getting the area\n",
    "rect.area()"
   ]
  },
  {
   "cell_type": "code",
   "execution_count": 8,
   "id": "8983ed1e",
   "metadata": {},
   "outputs": [
    {
     "data": {
      "text/plain": [
       "98"
      ]
     },
     "execution_count": 8,
     "metadata": {},
     "output_type": "execute_result"
    }
   ],
   "source": [
    "# getting the perimeter\n",
    "rect.perimeter()"
   ]
  },
  {
   "cell_type": "code",
   "execution_count": 9,
   "id": "5f00e1b4",
   "metadata": {},
   "outputs": [
    {
     "data": {
      "text/plain": [
       "21420"
      ]
     },
     "execution_count": 9,
     "metadata": {},
     "output_type": "execute_result"
    }
   ],
   "source": [
    "# getting the volume\n",
    "rect.volume()"
   ]
  },
  {
   "cell_type": "code",
   "execution_count": 10,
   "id": "be184c89",
   "metadata": {},
   "outputs": [],
   "source": [
    "# A Class to print user details\n",
    "class user:\n",
    "    \n",
    "    # data holder\n",
    "    def __init__(self, name, age, salary, status):\n",
    "        self.name = name\n",
    "        self.age = age\n",
    "        self.salary = salary\n",
    "        self.status = status\n",
    "        \n",
    "    # method to get name & age\n",
    "    def get_name_age(self):\n",
    "        return self.name, self.age\n",
    "    \n",
    "    # method to get salary\n",
    "    def get_salary(self):\n",
    "        return self.salary\n",
    "    \n",
    "    # method to get status\n",
    "    def get_status(self):\n",
    "        return self.status\n",
    "    \n",
    "# Creating objects\n",
    "user1 = user('Alan', 34, 54000, 'single')\n",
    "user2 = user('Gladys', 25, 35000, 'single')\n",
    "user3 = user('Timothy', 56, 79000, 'Divorced')\n"
   ]
  },
  {
   "cell_type": "code",
   "execution_count": 11,
   "id": "df3115d2",
   "metadata": {},
   "outputs": [
    {
     "data": {
      "text/plain": [
       "('Alan', 34)"
      ]
     },
     "execution_count": 11,
     "metadata": {},
     "output_type": "execute_result"
    }
   ],
   "source": [
    "# Getting name\n",
    "user1.get_name_age()"
   ]
  },
  {
   "cell_type": "code",
   "execution_count": 12,
   "id": "a32c5827",
   "metadata": {},
   "outputs": [
    {
     "data": {
      "text/plain": [
       "79000"
      ]
     },
     "execution_count": 12,
     "metadata": {},
     "output_type": "execute_result"
    }
   ],
   "source": [
    "# getting salary\n",
    "user3.get_salary()"
   ]
  },
  {
   "cell_type": "code",
   "execution_count": 13,
   "id": "085ba6f3",
   "metadata": {},
   "outputs": [
    {
     "data": {
      "text/plain": [
       "'single'"
      ]
     },
     "execution_count": 13,
     "metadata": {},
     "output_type": "execute_result"
    }
   ],
   "source": [
    "# gettig status\n",
    "user2.get_status()"
   ]
  },
  {
   "cell_type": "code",
   "execution_count": 14,
   "id": "74a2de00",
   "metadata": {},
   "outputs": [],
   "source": [
    "# A simple class to calculate circle operations\n",
    "class Circle:\n",
    "    \n",
    "    # Data holder\n",
    "    def __init__(self, radius, PI):\n",
    "        self.radius = radius\n",
    "        self.pi = PI\n",
    "        \n",
    "    # Calculate perimeter\n",
    "    def perimeter(self):\n",
    "        perimeter = (2*self.radius)\n",
    "        return perimeter\n",
    "    \n",
    "    # Calculate the area\n",
    "    def area (self):\n",
    "        area = self.pi * self.radius * self.radius\n",
    "        return area\n",
    "    \n",
    "# Creating objects\n",
    "circle = Circle(21, 3.14)\n",
    "circle2 = Circle(14, 3.142)"
   ]
  },
  {
   "cell_type": "code",
   "execution_count": 15,
   "id": "6b8ee919",
   "metadata": {},
   "outputs": [
    {
     "data": {
      "text/plain": [
       "1384.74"
      ]
     },
     "execution_count": 15,
     "metadata": {},
     "output_type": "execute_result"
    }
   ],
   "source": [
    "# Getting area\n",
    "circle.area()"
   ]
  },
  {
   "cell_type": "code",
   "execution_count": 16,
   "id": "d2c978ab",
   "metadata": {},
   "outputs": [
    {
     "data": {
      "text/plain": [
       "28"
      ]
     },
     "execution_count": 16,
     "metadata": {},
     "output_type": "execute_result"
    }
   ],
   "source": [
    "# getting perimeter\n",
    "circle2.perimeter()"
   ]
  }
 ],
 "metadata": {
  "kernelspec": {
   "display_name": "Python 3 (ipykernel)",
   "language": "python",
   "name": "python3"
  },
  "language_info": {
   "codemirror_mode": {
    "name": "ipython",
    "version": 3
   },
   "file_extension": ".py",
   "mimetype": "text/x-python",
   "name": "python",
   "nbconvert_exporter": "python",
   "pygments_lexer": "ipython3",
   "version": "3.9.12"
  }
 },
 "nbformat": 4,
 "nbformat_minor": 5
}
