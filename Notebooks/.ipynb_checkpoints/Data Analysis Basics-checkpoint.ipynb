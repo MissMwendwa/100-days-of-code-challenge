{
 "cells": [
  {
   "cell_type": "markdown",
   "id": "1a56a25c",
   "metadata": {},
   "source": [
    "# New Visualization"
   ]
  },
  {
   "cell_type": "code",
   "execution_count": 1,
   "id": "687e8f0a",
   "metadata": {},
   "outputs": [],
   "source": [
    "# imports\n",
    "import numpy as np\n",
    "import pandas as pd\n",
    "import matplotlib.pyplot as plt"
   ]
  },
  {
   "cell_type": "code",
   "execution_count": null,
   "id": "9e6d2027",
   "metadata": {},
   "outputs": [],
   "source": [
    "# Creating my first dictionary\n",
    "num = np.random,"
   ]
  }
 ],
 "metadata": {
  "kernelspec": {
   "display_name": "Python 3 (ipykernel)",
   "language": "python",
   "name": "python3"
  },
  "language_info": {
   "codemirror_mode": {
    "name": "ipython",
    "version": 3
   },
   "file_extension": ".py",
   "mimetype": "text/x-python",
   "name": "python",
   "nbconvert_exporter": "python",
   "pygments_lexer": "ipython3",
   "version": "3.9.12"
  }
 },
 "nbformat": 4,
 "nbformat_minor": 5
}
