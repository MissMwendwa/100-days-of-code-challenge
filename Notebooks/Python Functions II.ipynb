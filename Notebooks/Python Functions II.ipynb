{
 "cells": [
  {
   "cell_type": "markdown",
   "id": "1020e07f",
   "metadata": {},
   "source": [
    "# Python Functions II"
   ]
  },
  {
   "cell_type": "code",
   "execution_count": 2,
   "id": "e33161cc",
   "metadata": {},
   "outputs": [],
   "source": [
    "# A simple function to print a string\n",
    "def my_identity(name):\n",
    "    print(name)\n",
    "    "
   ]
  },
  {
   "cell_type": "code",
   "execution_count": 3,
   "id": "1dc874e6",
   "metadata": {},
   "outputs": [
    {
     "name": "stdout",
     "output_type": "stream",
     "text": [
      "Ashley\n"
     ]
    }
   ],
   "source": [
    "# Calling function\n",
    "my_identity('Ashley')"
   ]
  },
  {
   "cell_type": "code",
   "execution_count": 5,
   "id": "d2f44f70",
   "metadata": {},
   "outputs": [],
   "source": [
    "# A function to check validity\n",
    "var = 12\n",
    "def validy(var):\n",
    "    \n",
    "    # begin IFs\n",
    "    if var == 13:\n",
    "        print('The number is odd')\n",
    "    elif var == 12:\n",
    "        print('Number is Even')\n",
    "    else:\n",
    "        print('Number is undefined')\n",
    "        \n"
   ]
  },
  {
   "cell_type": "code",
   "execution_count": 6,
   "id": "b3766cbd",
   "metadata": {},
   "outputs": [
    {
     "name": "stdout",
     "output_type": "stream",
     "text": [
      "Number is undefined\n"
     ]
    }
   ],
   "source": [
    "#calling function\n",
    "new = 15\n",
    "validy(new)"
   ]
  },
  {
   "cell_type": "code",
   "execution_count": 7,
   "id": "81e590c0",
   "metadata": {},
   "outputs": [],
   "source": [
    "#A function to calculate area or perimeter\n",
    "def calcs (width, length):\n",
    "    \n",
    "    #The IFs\n",
    "    if width == length:\n",
    "        perimeter = width * 4\n",
    "        print('The perimeter is ' , perimeter)\n",
    "    elif width != length:\n",
    "        perimeter = (length + width)*2\n",
    "        print('The perimeter is ' , perimeter)\n",
    "    else:\n",
    "        print('The values are missing!')\n",
    "        \n",
    "    \n"
   ]
  },
  {
   "cell_type": "code",
   "execution_count": 8,
   "id": "26b375b8",
   "metadata": {},
   "outputs": [
    {
     "name": "stdout",
     "output_type": "stream",
     "text": [
      "The perimeter is  54\n"
     ]
    }
   ],
   "source": [
    "# Calling the function\n",
    "num = 12\n",
    "num1 = 15\n",
    "\n",
    "calcs(num, num1)\n"
   ]
  },
  {
   "cell_type": "code",
   "execution_count": 9,
   "id": "57e92ce2",
   "metadata": {},
   "outputs": [],
   "source": [
    "# A simple function to work with a circle\n",
    "def circum(radius):\n",
    "    \n",
    "    # the Calculations\n",
    "    circum = 2 * radius *3.14\n",
    "    area = 3.14 *radius *radius\n",
    "    \n",
    "    # Printig the results\n",
    "    print('The perimeter is ' , circum)\n",
    "    print('The area is ', area)\n",
    "    \n",
    "    "
   ]
  },
  {
   "cell_type": "code",
   "execution_count": 10,
   "id": "ce91fb42",
   "metadata": {},
   "outputs": [
    {
     "name": "stdout",
     "output_type": "stream",
     "text": [
      "The perimeter is  87.92\n",
      "The area is  615.44\n"
     ]
    }
   ],
   "source": [
    "# Calling the function\n",
    "circle = 14\n",
    "circum(circle)"
   ]
  },
  {
   "cell_type": "code",
   "execution_count": null,
   "id": "5e756d72",
   "metadata": {},
   "outputs": [],
   "source": []
  }
 ],
 "metadata": {
  "kernelspec": {
   "display_name": "Python 3 (ipykernel)",
   "language": "python",
   "name": "python3"
  },
  "language_info": {
   "codemirror_mode": {
    "name": "ipython",
    "version": 3
   },
   "file_extension": ".py",
   "mimetype": "text/x-python",
   "name": "python",
   "nbconvert_exporter": "python",
   "pygments_lexer": "ipython3",
   "version": "3.9.12"
  }
 },
 "nbformat": 4,
 "nbformat_minor": 5
}
